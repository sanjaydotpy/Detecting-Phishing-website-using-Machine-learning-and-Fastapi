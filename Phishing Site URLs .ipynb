{
 "cells": [
  {
   "cell_type": "code",
   "execution_count": 1,
   "metadata": {
    "scrolled": true
   },
   "outputs": [],
   "source": [
    "import pandas as pd # use for data manipulation and analysis\n",
    "import numpy as np # use for multi-dimensional array and matrix\n",
    "\n",
    "import seaborn as sns # use for high-level interface for drawing attractive and informative statistical graphics \n",
    "import matplotlib.pyplot as plt # It provides an object-oriented API for embedding plots into applications\n",
    "%matplotlib inline \n",
    "# It sets the backend of matplotlib to the 'inline' backend:\n",
    "import time # calculate time \n",
    "\n",
    "from sklearn.linear_model import LogisticRegression # algo use to predict good or bad\n",
    "from sklearn.naive_bayes import MultinomialNB # nlp algo use to predict good or bad\n",
    "\n",
    "from sklearn.model_selection import train_test_split # spliting the data between feature and target\n",
    "from sklearn.metrics import classification_report # gives whole report about metrics (e.g, recall,precision,f1_score,c_m)\n",
    "from sklearn.metrics import confusion_matrix # gives info about actual and predict\n",
    "from nltk.tokenize import RegexpTokenizer # regexp tokenizers use to split words from text  \n",
    "from nltk.stem.snowball import SnowballStemmer # stemmes words\n",
    "from sklearn.feature_extraction.text import CountVectorizer # create sparse matrix of words using regexptokenizes  \n",
    "from sklearn.pipeline import make_pipeline # use for combining all prerocessors techniuqes and algos\n",
    "\n",
    "from PIL import Image # getting images in notebook\n",
    "# from wordcloud import WordCloud, STOPWORDS, ImageColorGenerator# creates words colud\n",
    "\n",
    "from bs4 import BeautifulSoup # use for scraping the data from website\n",
    "from selenium import webdriver # use for automation chrome \n",
    "import networkx as nx # for the creation, manipulation, and study of the structure, dynamics, and functions of complex networks.\n",
    "\n",
    "import pickle# use to dump model \n",
    "\n",
    "import warnings # ignores pink warnings \n",
    "warnings.filterwarnings('ignore')"
   ]
  },
  {
   "cell_type": "code",
   "execution_count": 2,
   "metadata": {},
   "outputs": [],
   "source": [
    "phish_data = pd.read_csv('phishing_site_urls.csv')"
   ]
  },
  {
   "cell_type": "code",
   "execution_count": 3,
   "metadata": {
    "scrolled": false
   },
   "outputs": [
    {
     "data": {
      "text/html": [
       "<div>\n",
       "<style scoped>\n",
       "    .dataframe tbody tr th:only-of-type {\n",
       "        vertical-align: middle;\n",
       "    }\n",
       "\n",
       "    .dataframe tbody tr th {\n",
       "        vertical-align: top;\n",
       "    }\n",
       "\n",
       "    .dataframe thead th {\n",
       "        text-align: right;\n",
       "    }\n",
       "</style>\n",
       "<table border=\"1\" class=\"dataframe\">\n",
       "  <thead>\n",
       "    <tr style=\"text-align: right;\">\n",
       "      <th></th>\n",
       "      <th>URL</th>\n",
       "      <th>Label</th>\n",
       "    </tr>\n",
       "  </thead>\n",
       "  <tbody>\n",
       "    <tr>\n",
       "      <th>0</th>\n",
       "      <td>nobell.it/70ffb52d079109dca5664cce6f317373782/...</td>\n",
       "      <td>bad</td>\n",
       "    </tr>\n",
       "    <tr>\n",
       "      <th>1</th>\n",
       "      <td>www.dghjdgf.com/paypal.co.uk/cycgi-bin/webscrc...</td>\n",
       "      <td>bad</td>\n",
       "    </tr>\n",
       "    <tr>\n",
       "      <th>2</th>\n",
       "      <td>serviciosbys.com/paypal.cgi.bin.get-into.herf....</td>\n",
       "      <td>bad</td>\n",
       "    </tr>\n",
       "    <tr>\n",
       "      <th>3</th>\n",
       "      <td>mail.printakid.com/www.online.americanexpress....</td>\n",
       "      <td>bad</td>\n",
       "    </tr>\n",
       "    <tr>\n",
       "      <th>4</th>\n",
       "      <td>thewhiskeydregs.com/wp-content/themes/widescre...</td>\n",
       "      <td>bad</td>\n",
       "    </tr>\n",
       "  </tbody>\n",
       "</table>\n",
       "</div>"
      ],
      "text/plain": [
       "                                                 URL Label\n",
       "0  nobell.it/70ffb52d079109dca5664cce6f317373782/...   bad\n",
       "1  www.dghjdgf.com/paypal.co.uk/cycgi-bin/webscrc...   bad\n",
       "2  serviciosbys.com/paypal.cgi.bin.get-into.herf....   bad\n",
       "3  mail.printakid.com/www.online.americanexpress....   bad\n",
       "4  thewhiskeydregs.com/wp-content/themes/widescre...   bad"
      ]
     },
     "execution_count": 3,
     "metadata": {},
     "output_type": "execute_result"
    }
   ],
   "source": [
    "phish_data.head()"
   ]
  },
  {
   "cell_type": "code",
   "execution_count": 4,
   "metadata": {},
   "outputs": [
    {
     "data": {
      "text/html": [
       "<div>\n",
       "<style scoped>\n",
       "    .dataframe tbody tr th:only-of-type {\n",
       "        vertical-align: middle;\n",
       "    }\n",
       "\n",
       "    .dataframe tbody tr th {\n",
       "        vertical-align: top;\n",
       "    }\n",
       "\n",
       "    .dataframe thead th {\n",
       "        text-align: right;\n",
       "    }\n",
       "</style>\n",
       "<table border=\"1\" class=\"dataframe\">\n",
       "  <thead>\n",
       "    <tr style=\"text-align: right;\">\n",
       "      <th></th>\n",
       "      <th>URL</th>\n",
       "      <th>Label</th>\n",
       "    </tr>\n",
       "  </thead>\n",
       "  <tbody>\n",
       "    <tr>\n",
       "      <th>549341</th>\n",
       "      <td>23.227.196.215/</td>\n",
       "      <td>bad</td>\n",
       "    </tr>\n",
       "    <tr>\n",
       "      <th>549342</th>\n",
       "      <td>apple-checker.org/</td>\n",
       "      <td>bad</td>\n",
       "    </tr>\n",
       "    <tr>\n",
       "      <th>549343</th>\n",
       "      <td>apple-iclods.org/</td>\n",
       "      <td>bad</td>\n",
       "    </tr>\n",
       "    <tr>\n",
       "      <th>549344</th>\n",
       "      <td>apple-uptoday.org/</td>\n",
       "      <td>bad</td>\n",
       "    </tr>\n",
       "    <tr>\n",
       "      <th>549345</th>\n",
       "      <td>apple-search.info</td>\n",
       "      <td>bad</td>\n",
       "    </tr>\n",
       "  </tbody>\n",
       "</table>\n",
       "</div>"
      ],
      "text/plain": [
       "                       URL Label\n",
       "549341     23.227.196.215/   bad\n",
       "549342  apple-checker.org/   bad\n",
       "549343   apple-iclods.org/   bad\n",
       "549344  apple-uptoday.org/   bad\n",
       "549345   apple-search.info   bad"
      ]
     },
     "execution_count": 4,
     "metadata": {},
     "output_type": "execute_result"
    }
   ],
   "source": [
    "phish_data.tail()"
   ]
  },
  {
   "cell_type": "code",
   "execution_count": 5,
   "metadata": {
    "scrolled": false
   },
   "outputs": [
    {
     "name": "stdout",
     "output_type": "stream",
     "text": [
      "<class 'pandas.core.frame.DataFrame'>\n",
      "RangeIndex: 549346 entries, 0 to 549345\n",
      "Data columns (total 2 columns):\n",
      " #   Column  Non-Null Count   Dtype \n",
      "---  ------  --------------   ----- \n",
      " 0   URL     549346 non-null  object\n",
      " 1   Label   549346 non-null  object\n",
      "dtypes: object(2)\n",
      "memory usage: 8.4+ MB\n"
     ]
    }
   ],
   "source": [
    "phish_data.info()"
   ]
  },
  {
   "cell_type": "markdown",
   "metadata": {},
   "source": [
    "* **About dataset**\n",
    "* Data is containg 5,49,346 unique entries.\n",
    "* There are two columns.\n",
    "* Label column is prediction col which has 2 categories \n",
    "    A. Good - which means the urls is not containing malicious stuff and **this site is not a Phishing Site.**\n",
    "    B. Bad - which means the urls contains malicious stuffs and **this site isa Phishing Site.**\n",
    "* There is no missing value in the dataset."
   ]
  },
  {
   "cell_type": "code",
   "execution_count": 6,
   "metadata": {
    "scrolled": true
   },
   "outputs": [
    {
     "data": {
      "text/plain": [
       "URL      0\n",
       "Label    0\n",
       "dtype: int64"
      ]
     },
     "execution_count": 6,
     "metadata": {},
     "output_type": "execute_result"
    }
   ],
   "source": [
    "phish_data.isnull().sum() # there is no missing values"
   ]
  },
  {
   "cell_type": "markdown",
   "metadata": {},
   "source": [
    "* **Since it is classification problems so let's see the classes are balanced or imbalances**"
   ]
  },
  {
   "cell_type": "code",
   "execution_count": 7,
   "metadata": {},
   "outputs": [],
   "source": [
    "#create a dataframe of classes counts\n",
    "label_counts = pd.DataFrame(phish_data.Label.value_counts())"
   ]
  },
  {
   "cell_type": "code",
   "execution_count": 8,
   "metadata": {},
   "outputs": [
    {
     "data": {
      "text/plain": [
       "<matplotlib.axes._subplots.AxesSubplot at 0x27398a24088>"
      ]
     },
     "execution_count": 8,
     "metadata": {},
     "output_type": "execute_result"
    },
    {
     "data": {
      "image/png": "[encoded data removed]",
      "text/plain": [
       "<Figure size 432x288 with 1 Axes>"
      ]
     },
     "metadata": {},
     "output_type": "display_data"
    }
   ],
   "source": [
    "#visualizing target_col\n",
    "sns.set_style('darkgrid')\n",
    "sns.barplot(label_counts.index,label_counts.Label)"
   ]
  },
  {
   "cell_type": "code",
   "execution_count": 9,
   "metadata": {},
   "outputs": [],
   "source": [
    "tokenizer = RegexpTokenizer(r'[A-Za-z]+')"
   ]
  },
  {
   "cell_type": "code",
   "execution_count": 10,
   "metadata": {},
   "outputs": [
    {
     "data": {
      "text/plain": [
       "'nobell.it/70ffb52d079109dca5664cce6f317373782/login.SkyPe.com/en/cgi-bin/verification/login/70ffb52d079109dca5664cce6f317373/index.php?cmd=_profile-ach&outdated_page_tmpl=p/gen/failed-to-load&nav=0.5.1&login_access=1322408526'"
      ]
     },
     "execution_count": 10,
     "metadata": {},
     "output_type": "execute_result"
    }
   ],
   "source": [
    "phish_data.URL[0]"
   ]
  },
  {
   "cell_type": "code",
   "execution_count": 11,
   "metadata": {},
   "outputs": [
    {
     "data": {
      "text/plain": [
       "['nobell',\n",
       " 'it',\n",
       " 'ffb',\n",
       " 'd',\n",
       " 'dca',\n",
       " 'cce',\n",
       " 'f',\n",
       " 'login',\n",
       " 'SkyPe',\n",
       " 'com',\n",
       " 'en',\n",
       " 'cgi',\n",
       " 'bin',\n",
       " 'verification',\n",
       " 'login',\n",
       " 'ffb',\n",
       " 'd',\n",
       " 'dca',\n",
       " 'cce',\n",
       " 'f',\n",
       " 'index',\n",
       " 'php',\n",
       " 'cmd',\n",
       " 'profile',\n",
       " 'ach',\n",
       " 'outdated',\n",
       " 'page',\n",
       " 'tmpl',\n",
       " 'p',\n",
       " 'gen',\n",
       " 'failed',\n",
       " 'to',\n",
       " 'load',\n",
       " 'nav',\n",
       " 'login',\n",
       " 'access']"
      ]
     },
     "execution_count": 11,
     "metadata": {},
     "output_type": "execute_result"
    }
   ],
   "source": [
    "# this will be pull letter which matches to expression\n",
    "tokenizer.tokenize(phish_data.URL[0]) # using first row"
   ]
  },
  {
   "cell_type": "code",
   "execution_count": 12,
   "metadata": {},
   "outputs": [
    {
     "name": "stdout",
     "output_type": "stream",
     "text": [
      "Getting words tokenized ...\n",
      "Time taken 5.144701700000013 sec\n"
     ]
    }
   ],
   "source": [
    "print('Getting words tokenized ...')\n",
    "t0= time.perf_counter()\n",
    "phish_data['text_tokenized'] = phish_data.URL.map(lambda t: tokenizer.tokenize(t)) # doing with all rows\n",
    "t1 = time.perf_counter() - t0\n",
    "print('Time taken',t1 ,'sec')"
   ]
  },
  {
   "cell_type": "code",
   "execution_count": 13,
   "metadata": {},
   "outputs": [
    {
     "data": {
      "text/html": [
       "<div>\n",
       "<style scoped>\n",
       "    .dataframe tbody tr th:only-of-type {\n",
       "        vertical-align: middle;\n",
       "    }\n",
       "\n",
       "    .dataframe tbody tr th {\n",
       "        vertical-align: top;\n",
       "    }\n",
       "\n",
       "    .dataframe thead th {\n",
       "        text-align: right;\n",
       "    }\n",
       "</style>\n",
       "<table border=\"1\" class=\"dataframe\">\n",
       "  <thead>\n",
       "    <tr style=\"text-align: right;\">\n",
       "      <th></th>\n",
       "      <th>URL</th>\n",
       "      <th>Label</th>\n",
       "      <th>text_tokenized</th>\n",
       "    </tr>\n",
       "  </thead>\n",
       "  <tbody>\n",
       "    <tr>\n",
       "      <th>203817</th>\n",
       "      <td>jsconsole.mozdev.org/</td>\n",
       "      <td>good</td>\n",
       "      <td>[jsconsole, mozdev, org]</td>\n",
       "    </tr>\n",
       "    <tr>\n",
       "      <th>124454</th>\n",
       "      <td>iasdband.com.br/wd/authentica/auth/view/document</td>\n",
       "      <td>bad</td>\n",
       "      <td>[iasdband, com, br, wd, authentica, auth, view...</td>\n",
       "    </tr>\n",
       "    <tr>\n",
       "      <th>381917</th>\n",
       "      <td>mahalo.com/summer-olympics/</td>\n",
       "      <td>good</td>\n",
       "      <td>[mahalo, com, summer, olympics]</td>\n",
       "    </tr>\n",
       "    <tr>\n",
       "      <th>480733</th>\n",
       "      <td>aeroplan.com/terms_and_conditions.do</td>\n",
       "      <td>good</td>\n",
       "      <td>[aeroplan, com, terms, and, conditions, do]</td>\n",
       "    </tr>\n",
       "    <tr>\n",
       "      <th>254822</th>\n",
       "      <td>vetreg.com/B.aspx</td>\n",
       "      <td>good</td>\n",
       "      <td>[vetreg, com, B, aspx]</td>\n",
       "    </tr>\n",
       "  </tbody>\n",
       "</table>\n",
       "</div>"
      ],
      "text/plain": [
       "                                                     URL Label  \\\n",
       "203817                             jsconsole.mozdev.org/  good   \n",
       "124454  iasdband.com.br/wd/authentica/auth/view/document   bad   \n",
       "381917                       mahalo.com/summer-olympics/  good   \n",
       "480733              aeroplan.com/terms_and_conditions.do  good   \n",
       "254822                                 vetreg.com/B.aspx  good   \n",
       "\n",
       "                                           text_tokenized  \n",
       "203817                           [jsconsole, mozdev, org]  \n",
       "124454  [iasdband, com, br, wd, authentica, auth, view...  \n",
       "381917                    [mahalo, com, summer, olympics]  \n",
       "480733        [aeroplan, com, terms, and, conditions, do]  \n",
       "254822                             [vetreg, com, B, aspx]  "
      ]
     },
     "execution_count": 13,
     "metadata": {},
     "output_type": "execute_result"
    }
   ],
   "source": [
    "phish_data.sample(5)"
   ]
  },
  {
   "cell_type": "markdown",
   "metadata": {},
   "source": [
    "#### SnowballStemmer\n",
    "* Snowball is a small string processing language, gives root words"
   ]
  },
  {
   "cell_type": "code",
   "execution_count": 14,
   "metadata": {},
   "outputs": [],
   "source": [
    "stemmer = SnowballStemmer(\"english\") # choose a language"
   ]
  },
  {
   "cell_type": "code",
   "execution_count": 15,
   "metadata": {},
   "outputs": [
    {
     "name": "stdout",
     "output_type": "stream",
     "text": [
      "Getting words stemmed ...\n",
      "Time taken 118.57938250000001 sec\n"
     ]
    }
   ],
   "source": [
    "print('Getting words stemmed ...')\n",
    "t0= time.perf_counter()\n",
    "phish_data['text_stemmed'] = phish_data['text_tokenized'].map(lambda l: [stemmer.stem(word) for word in l])\n",
    "t1= time.perf_counter() - t0\n",
    "print('Time taken',t1 ,'sec')"
   ]
  },
  {
   "cell_type": "code",
   "execution_count": 16,
   "metadata": {
    "scrolled": true
   },
   "outputs": [
    {
     "data": {
      "text/html": [
       "<div>\n",
       "<style scoped>\n",
       "    .dataframe tbody tr th:only-of-type {\n",
       "        vertical-align: middle;\n",
       "    }\n",
       "\n",
       "    .dataframe tbody tr th {\n",
       "        vertical-align: top;\n",
       "    }\n",
       "\n",
       "    .dataframe thead th {\n",
       "        text-align: right;\n",
       "    }\n",
       "</style>\n",
       "<table border=\"1\" class=\"dataframe\">\n",
       "  <thead>\n",
       "    <tr style=\"text-align: right;\">\n",
       "      <th></th>\n",
       "      <th>URL</th>\n",
       "      <th>Label</th>\n",
       "      <th>text_tokenized</th>\n",
       "      <th>text_stemmed</th>\n",
       "    </tr>\n",
       "  </thead>\n",
       "  <tbody>\n",
       "    <tr>\n",
       "      <th>516296</th>\n",
       "      <td>dabaaedkbecleanf.co /</td>\n",
       "      <td>bad</td>\n",
       "      <td>[dabaaedkbecleanf, co]</td>\n",
       "      <td>[dabaaedkbecleanf, co]</td>\n",
       "    </tr>\n",
       "    <tr>\n",
       "      <th>437090</th>\n",
       "      <td>spokeo.com/Richard+Doering</td>\n",
       "      <td>good</td>\n",
       "      <td>[spokeo, com, Richard, Doering]</td>\n",
       "      <td>[spokeo, com, richard, doer]</td>\n",
       "    </tr>\n",
       "    <tr>\n",
       "      <th>142727</th>\n",
       "      <td>answers.yahoo.com/question/index?qid=200712021...</td>\n",
       "      <td>good</td>\n",
       "      <td>[answers, yahoo, com, question, index, qid, AA...</td>\n",
       "      <td>[answer, yahoo, com, question, index, qid, aaq...</td>\n",
       "    </tr>\n",
       "    <tr>\n",
       "      <th>270134</th>\n",
       "      <td>ago.net/agoid104111</td>\n",
       "      <td>good</td>\n",
       "      <td>[ago, net, agoid]</td>\n",
       "      <td>[ago, net, agoid]</td>\n",
       "    </tr>\n",
       "    <tr>\n",
       "      <th>342076</th>\n",
       "      <td>freebase.com/view/en/elias_koteas</td>\n",
       "      <td>good</td>\n",
       "      <td>[freebase, com, view, en, elias, koteas]</td>\n",
       "      <td>[freebas, com, view, en, elia, kotea]</td>\n",
       "    </tr>\n",
       "  </tbody>\n",
       "</table>\n",
       "</div>"
      ],
      "text/plain": [
       "                                                      URL Label  \\\n",
       "516296                              dabaaedkbecleanf.co /   bad   \n",
       "437090                         spokeo.com/Richard+Doering  good   \n",
       "142727  answers.yahoo.com/question/index?qid=200712021...  good   \n",
       "270134                                ago.net/agoid104111  good   \n",
       "342076                  freebase.com/view/en/elias_koteas  good   \n",
       "\n",
       "                                           text_tokenized  \\\n",
       "516296                             [dabaaedkbecleanf, co]   \n",
       "437090                    [spokeo, com, Richard, Doering]   \n",
       "142727  [answers, yahoo, com, question, index, qid, AA...   \n",
       "270134                                  [ago, net, agoid]   \n",
       "342076           [freebase, com, view, en, elias, koteas]   \n",
       "\n",
       "                                             text_stemmed  \n",
       "516296                             [dabaaedkbecleanf, co]  \n",
       "437090                       [spokeo, com, richard, doer]  \n",
       "142727  [answer, yahoo, com, question, index, qid, aaq...  \n",
       "270134                                  [ago, net, agoid]  \n",
       "342076              [freebas, com, view, en, elia, kotea]  "
      ]
     },
     "execution_count": 16,
     "metadata": {},
     "output_type": "execute_result"
    }
   ],
   "source": [
    "phish_data.sample(5)"
   ]
  },
  {
   "cell_type": "code",
   "execution_count": 17,
   "metadata": {},
   "outputs": [
    {
     "name": "stdout",
     "output_type": "stream",
     "text": [
      "Getting joiningwords ...\n",
      "Time taken 0.5084567000000106 sec\n"
     ]
    }
   ],
   "source": [
    "print('Getting joiningwords ...')\n",
    "t0= time.perf_counter()\n",
    "phish_data['text_sent'] = phish_data['text_stemmed'].map(lambda l: ' '.join(l))\n",
    "t1= time.perf_counter() - t0\n",
    "print('Time taken',t1 ,'sec')"
   ]
  },
  {
   "cell_type": "code",
   "execution_count": 18,
   "metadata": {},
   "outputs": [
    {
     "data": {
      "text/html": [
       "<div>\n",
       "<style scoped>\n",
       "    .dataframe tbody tr th:only-of-type {\n",
       "        vertical-align: middle;\n",
       "    }\n",
       "\n",
       "    .dataframe tbody tr th {\n",
       "        vertical-align: top;\n",
       "    }\n",
       "\n",
       "    .dataframe thead th {\n",
       "        text-align: right;\n",
       "    }\n",
       "</style>\n",
       "<table border=\"1\" class=\"dataframe\">\n",
       "  <thead>\n",
       "    <tr style=\"text-align: right;\">\n",
       "      <th></th>\n",
       "      <th>URL</th>\n",
       "      <th>Label</th>\n",
       "      <th>text_tokenized</th>\n",
       "      <th>text_stemmed</th>\n",
       "      <th>text_sent</th>\n",
       "    </tr>\n",
       "  </thead>\n",
       "  <tbody>\n",
       "    <tr>\n",
       "      <th>159930</th>\n",
       "      <td>coloursareburning.blogspot.com/2011/03/unwritt...</td>\n",
       "      <td>good</td>\n",
       "      <td>[coloursareburning, blogspot, com, unwrittenla...</td>\n",
       "      <td>[coloursareburn, blogspot, com, unwrittenlaw, ...</td>\n",
       "      <td>coloursareburn blogspot com unwrittenlaw swan ...</td>\n",
       "    </tr>\n",
       "    <tr>\n",
       "      <th>364317</th>\n",
       "      <td>jahsonic.com/SeventiesFilm.html</td>\n",
       "      <td>good</td>\n",
       "      <td>[jahsonic, com, SeventiesFilm, html]</td>\n",
       "      <td>[jahson, com, seventiesfilm, html]</td>\n",
       "      <td>jahson com seventiesfilm html</td>\n",
       "    </tr>\n",
       "    <tr>\n",
       "      <th>360084</th>\n",
       "      <td>imdb.com/title/tt0109831/fullcredits</td>\n",
       "      <td>good</td>\n",
       "      <td>[imdb, com, title, tt, fullcredits]</td>\n",
       "      <td>[imdb, com, titl, tt, fullcredit]</td>\n",
       "      <td>imdb com titl tt fullcredit</td>\n",
       "    </tr>\n",
       "    <tr>\n",
       "      <th>464675</th>\n",
       "      <td>wikinvest.com/stock/Suncor_Energy_(SU)/Petro-C...</td>\n",
       "      <td>good</td>\n",
       "      <td>[wikinvest, com, stock, Suncor, Energy, SU, Pe...</td>\n",
       "      <td>[wikinvest, com, stock, suncor, energi, su, pe...</td>\n",
       "      <td>wikinvest com stock suncor energi su petro can...</td>\n",
       "    </tr>\n",
       "    <tr>\n",
       "      <th>398790</th>\n",
       "      <td>myspace.com/casey_merrill</td>\n",
       "      <td>good</td>\n",
       "      <td>[myspace, com, casey, merrill]</td>\n",
       "      <td>[myspac, com, casey, merril]</td>\n",
       "      <td>myspac com casey merril</td>\n",
       "    </tr>\n",
       "  </tbody>\n",
       "</table>\n",
       "</div>"
      ],
      "text/plain": [
       "                                                      URL Label  \\\n",
       "159930  coloursareburning.blogspot.com/2011/03/unwritt...  good   \n",
       "364317                    jahsonic.com/SeventiesFilm.html  good   \n",
       "360084               imdb.com/title/tt0109831/fullcredits  good   \n",
       "464675  wikinvest.com/stock/Suncor_Energy_(SU)/Petro-C...  good   \n",
       "398790                          myspace.com/casey_merrill  good   \n",
       "\n",
       "                                           text_tokenized  \\\n",
       "159930  [coloursareburning, blogspot, com, unwrittenla...   \n",
       "364317               [jahsonic, com, SeventiesFilm, html]   \n",
       "360084                [imdb, com, title, tt, fullcredits]   \n",
       "464675  [wikinvest, com, stock, Suncor, Energy, SU, Pe...   \n",
       "398790                     [myspace, com, casey, merrill]   \n",
       "\n",
       "                                             text_stemmed  \\\n",
       "159930  [coloursareburn, blogspot, com, unwrittenlaw, ...   \n",
       "364317                 [jahson, com, seventiesfilm, html]   \n",
       "360084                  [imdb, com, titl, tt, fullcredit]   \n",
       "464675  [wikinvest, com, stock, suncor, energi, su, pe...   \n",
       "398790                       [myspac, com, casey, merril]   \n",
       "\n",
       "                                                text_sent  \n",
       "159930  coloursareburn blogspot com unwrittenlaw swan ...  \n",
       "364317                      jahson com seventiesfilm html  \n",
       "360084                        imdb com titl tt fullcredit  \n",
       "464675  wikinvest com stock suncor energi su petro can...  \n",
       "398790                            myspac com casey merril  "
      ]
     },
     "execution_count": 18,
     "metadata": {},
     "output_type": "execute_result"
    }
   ],
   "source": [
    "phish_data.sample(5)"
   ]
  },
  {
   "cell_type": "markdown",
   "metadata": {},
   "source": [
    "### Visualization \n",
    "**1. Visualize some important keys using word cloud**"
   ]
  },
  {
   "cell_type": "code",
   "execution_count": 19,
   "metadata": {},
   "outputs": [],
   "source": [
    "#sliceing classes\n",
    "bad_sites = phish_data[phish_data.Label == 'bad']\n",
    "good_sites = phish_data[phish_data.Label == 'good']"
   ]
  },
  {
   "cell_type": "code",
   "execution_count": 20,
   "metadata": {},
   "outputs": [
    {
     "data": {
      "text/html": [
       "<div>\n",
       "<style scoped>\n",
       "    .dataframe tbody tr th:only-of-type {\n",
       "        vertical-align: middle;\n",
       "    }\n",
       "\n",
       "    .dataframe tbody tr th {\n",
       "        vertical-align: top;\n",
       "    }\n",
       "\n",
       "    .dataframe thead th {\n",
       "        text-align: right;\n",
       "    }\n",
       "</style>\n",
       "<table border=\"1\" class=\"dataframe\">\n",
       "  <thead>\n",
       "    <tr style=\"text-align: right;\">\n",
       "      <th></th>\n",
       "      <th>URL</th>\n",
       "      <th>Label</th>\n",
       "      <th>text_tokenized</th>\n",
       "      <th>text_stemmed</th>\n",
       "      <th>text_sent</th>\n",
       "    </tr>\n",
       "  </thead>\n",
       "  <tbody>\n",
       "    <tr>\n",
       "      <th>0</th>\n",
       "      <td>nobell.it/70ffb52d079109dca5664cce6f317373782/...</td>\n",
       "      <td>bad</td>\n",
       "      <td>[nobell, it, ffb, d, dca, cce, f, login, SkyPe...</td>\n",
       "      <td>[nobel, it, ffb, d, dca, cce, f, login, skype,...</td>\n",
       "      <td>nobel it ffb d dca cce f login skype com en cg...</td>\n",
       "    </tr>\n",
       "    <tr>\n",
       "      <th>1</th>\n",
       "      <td>www.dghjdgf.com/paypal.co.uk/cycgi-bin/webscrc...</td>\n",
       "      <td>bad</td>\n",
       "      <td>[www, dghjdgf, com, paypal, co, uk, cycgi, bin...</td>\n",
       "      <td>[www, dghjdgf, com, paypal, co, uk, cycgi, bin...</td>\n",
       "      <td>www dghjdgf com paypal co uk cycgi bin webscrc...</td>\n",
       "    </tr>\n",
       "    <tr>\n",
       "      <th>2</th>\n",
       "      <td>serviciosbys.com/paypal.cgi.bin.get-into.herf....</td>\n",
       "      <td>bad</td>\n",
       "      <td>[serviciosbys, com, paypal, cgi, bin, get, int...</td>\n",
       "      <td>[serviciosbi, com, paypal, cgi, bin, get, into...</td>\n",
       "      <td>serviciosbi com paypal cgi bin get into herf s...</td>\n",
       "    </tr>\n",
       "    <tr>\n",
       "      <th>3</th>\n",
       "      <td>mail.printakid.com/www.online.americanexpress....</td>\n",
       "      <td>bad</td>\n",
       "      <td>[mail, printakid, com, www, online, americanex...</td>\n",
       "      <td>[mail, printakid, com, www, onlin, americanexp...</td>\n",
       "      <td>mail printakid com www onlin americanexpress c...</td>\n",
       "    </tr>\n",
       "    <tr>\n",
       "      <th>4</th>\n",
       "      <td>thewhiskeydregs.com/wp-content/themes/widescre...</td>\n",
       "      <td>bad</td>\n",
       "      <td>[thewhiskeydregs, com, wp, content, themes, wi...</td>\n",
       "      <td>[thewhiskeydreg, com, wp, content, theme, wide...</td>\n",
       "      <td>thewhiskeydreg com wp content theme widescreen...</td>\n",
       "    </tr>\n",
       "  </tbody>\n",
       "</table>\n",
       "</div>"
      ],
      "text/plain": [
       "                                                 URL Label  \\\n",
       "0  nobell.it/70ffb52d079109dca5664cce6f317373782/...   bad   \n",
       "1  www.dghjdgf.com/paypal.co.uk/cycgi-bin/webscrc...   bad   \n",
       "2  serviciosbys.com/paypal.cgi.bin.get-into.herf....   bad   \n",
       "3  mail.printakid.com/www.online.americanexpress....   bad   \n",
       "4  thewhiskeydregs.com/wp-content/themes/widescre...   bad   \n",
       "\n",
       "                                      text_tokenized  \\\n",
       "0  [nobell, it, ffb, d, dca, cce, f, login, SkyPe...   \n",
       "1  [www, dghjdgf, com, paypal, co, uk, cycgi, bin...   \n",
       "2  [serviciosbys, com, paypal, cgi, bin, get, int...   \n",
       "3  [mail, printakid, com, www, online, americanex...   \n",
       "4  [thewhiskeydregs, com, wp, content, themes, wi...   \n",
       "\n",
       "                                        text_stemmed  \\\n",
       "0  [nobel, it, ffb, d, dca, cce, f, login, skype,...   \n",
       "1  [www, dghjdgf, com, paypal, co, uk, cycgi, bin...   \n",
       "2  [serviciosbi, com, paypal, cgi, bin, get, into...   \n",
       "3  [mail, printakid, com, www, onlin, americanexp...   \n",
       "4  [thewhiskeydreg, com, wp, content, theme, wide...   \n",
       "\n",
       "                                           text_sent  \n",
       "0  nobel it ffb d dca cce f login skype com en cg...  \n",
       "1  www dghjdgf com paypal co uk cycgi bin webscrc...  \n",
       "2  serviciosbi com paypal cgi bin get into herf s...  \n",
       "3  mail printakid com www onlin americanexpress c...  \n",
       "4  thewhiskeydreg com wp content theme widescreen...  "
      ]
     },
     "execution_count": 20,
     "metadata": {},
     "output_type": "execute_result"
    }
   ],
   "source": [
    "bad_sites.head()"
   ]
  },
  {
   "cell_type": "code",
   "execution_count": 21,
   "metadata": {},
   "outputs": [
    {
     "data": {
      "text/html": [
       "<div>\n",
       "<style scoped>\n",
       "    .dataframe tbody tr th:only-of-type {\n",
       "        vertical-align: middle;\n",
       "    }\n",
       "\n",
       "    .dataframe tbody tr th {\n",
       "        vertical-align: top;\n",
       "    }\n",
       "\n",
       "    .dataframe thead th {\n",
       "        text-align: right;\n",
       "    }\n",
       "</style>\n",
       "<table border=\"1\" class=\"dataframe\">\n",
       "  <thead>\n",
       "    <tr style=\"text-align: right;\">\n",
       "      <th></th>\n",
       "      <th>URL</th>\n",
       "      <th>Label</th>\n",
       "      <th>text_tokenized</th>\n",
       "      <th>text_stemmed</th>\n",
       "      <th>text_sent</th>\n",
       "    </tr>\n",
       "  </thead>\n",
       "  <tbody>\n",
       "    <tr>\n",
       "      <th>18231</th>\n",
       "      <td>esxcc.com/js/index.htm?us.battle.net/noghn/en/...</td>\n",
       "      <td>good</td>\n",
       "      <td>[esxcc, com, js, index, htm, us, battle, net, ...</td>\n",
       "      <td>[esxcc, com, js, index, htm, us, battl, net, n...</td>\n",
       "      <td>esxcc com js index htm us battl net noghn en r...</td>\n",
       "    </tr>\n",
       "    <tr>\n",
       "      <th>18232</th>\n",
       "      <td>www\u000eeira¯&amp;nvinip¿ncH¯wVö%ÆåyDaHðû/ÏyEùu\u0003Ë\\nÓ\u00176...</td>\n",
       "      <td>good</td>\n",
       "      <td>[www, eira, nvinip, ncH, wV, yDaH, yE, u, rT, ...</td>\n",
       "      <td>[www, eira, nvinip, nch, wv, ydah, ye, u, rt, ...</td>\n",
       "      <td>www eira nvinip nch wv ydah ye u rt u g m i xz...</td>\n",
       "    </tr>\n",
       "    <tr>\n",
       "      <th>18233</th>\n",
       "      <td>'www.institutocgr.coo/web/media/syqvem/dk-\u000fóij...</td>\n",
       "      <td>good</td>\n",
       "      <td>[www, institutocgr, coo, web, media, syqvem, d...</td>\n",
       "      <td>[www, institutocgr, coo, web, media, syqvem, d...</td>\n",
       "      <td>www institutocgr coo web media syqvem dk ij r ...</td>\n",
       "    </tr>\n",
       "    <tr>\n",
       "      <th>18234</th>\n",
       "      <td>\u0011\u0018Yìê\f",
       "koãÕ»Î§DéÎ\u0002l½ñ¡ââqtò¸/à; Í</td>\n",
       "      <td>good</td>\n",
       "      <td>[Y, ko, D, l, qt]</td>\n",
       "      <td>[y, ko, d, l, qt]</td>\n",
       "      <td>y ko d l qt</td>\n",
       "    </tr>\n",
       "    <tr>\n",
       "      <th>18236</th>\n",
       "      <td>ruta89fm.com/images/AS@Vies/1i75cf7b16vc&lt;F\u0015d16...</td>\n",
       "      <td>good</td>\n",
       "      <td>[ruta, fm, com, images, AS, Vies, i, cf, b, vc...</td>\n",
       "      <td>[ruta, fm, com, imag, as, vie, i, cf, b, vc, f...</td>\n",
       "      <td>ruta fm com imag as vie i cf b vc f d b g sd v...</td>\n",
       "    </tr>\n",
       "  </tbody>\n",
       "</table>\n",
       "</div>"
      ],
      "text/plain": [
       "                                                     URL Label  \\\n",
       "18231  esxcc.com/js/index.htm?us.battle.net/noghn/en/...  good   \n",
       "18232  www\u000eeira¯&nvinip¿ncH¯wVö%ÆåyDaHðû/ÏyEùu\u0003Ë\\nÓ\u00176...  good   \n",
       "18233  'www.institutocgr.coo/web/media/syqvem/dk-\u000fóij...  good   \n",
       "18234                  \u0011\u0018Yìê\n",
       "koãÕ»Î§DéÎ\u0002l½ñ¡ââqtò¸/à; Í  good   \n",
       "18236  ruta89fm.com/images/AS@Vies/1i75cf7b16vc<F\u0015d16...  good   \n",
       "\n",
       "                                          text_tokenized  \\\n",
       "18231  [esxcc, com, js, index, htm, us, battle, net, ...   \n",
       "18232  [www, eira, nvinip, ncH, wV, yDaH, yE, u, rT, ...   \n",
       "18233  [www, institutocgr, coo, web, media, syqvem, d...   \n",
       "18234                                  [Y, ko, D, l, qt]   \n",
       "18236  [ruta, fm, com, images, AS, Vies, i, cf, b, vc...   \n",
       "\n",
       "                                            text_stemmed  \\\n",
       "18231  [esxcc, com, js, index, htm, us, battl, net, n...   \n",
       "18232  [www, eira, nvinip, nch, wv, ydah, ye, u, rt, ...   \n",
       "18233  [www, institutocgr, coo, web, media, syqvem, d...   \n",
       "18234                                  [y, ko, d, l, qt]   \n",
       "18236  [ruta, fm, com, imag, as, vie, i, cf, b, vc, f...   \n",
       "\n",
       "                                               text_sent  \n",
       "18231  esxcc com js index htm us battl net noghn en r...  \n",
       "18232  www eira nvinip nch wv ydah ye u rt u g m i xz...  \n",
       "18233  www institutocgr coo web media syqvem dk ij r ...  \n",
       "18234                                        y ko d l qt  \n",
       "18236  ruta fm com imag as vie i cf b vc f d b g sd v...  "
      ]
     },
     "execution_count": 21,
     "metadata": {},
     "output_type": "execute_result"
    }
   ],
   "source": [
    "good_sites.head()"
   ]
  },
  {
   "cell_type": "markdown",
   "metadata": {},
   "source": [
    "* create a function to visualize the important keys from url "
   ]
  },
  {
   "cell_type": "code",
   "execution_count": 22,
   "metadata": {},
   "outputs": [],
   "source": [
    "def plot_wordcloud(text, mask=None, max_words=400, max_font_size=120, figure_size=(24.0,16.0), \n",
    "                   title = None, title_size=40, image_color=False):\n",
    "    stopwords = set(STOPWORDS)\n",
    "    more_stopwords = {'com','http'}\n",
    "    stopwords = stopwords.union(more_stopwords)\n",
    "\n",
    "    wordcloud = WordCloud(background_color='white',\n",
    "                    stopwords = stopwords,\n",
    "                    max_words = max_words,\n",
    "                    max_font_size = max_font_size, \n",
    "                    random_state = 42,\n",
    "                    mask = mask)\n",
    "    wordcloud.generate(text)\n",
    "    \n",
    "    plt.figure(figsize=figure_size)\n",
    "    if image_color:\n",
    "        image_colors = ImageColorGenerator(mask);\n",
    "        plt.imshow(wordcloud.recolor(color_func=image_colors), interpolation=\"bilinear\");\n",
    "        plt.title(title, fontdict={'size': title_size,  \n",
    "                                  'verticalalignment': 'bottom'})\n",
    "    else:\n",
    "        plt.imshow(wordcloud);\n",
    "        plt.title(title, fontdict={'size': title_size, 'color': 'green', \n",
    "                                  'verticalalignment': 'bottom'})\n",
    "    plt.axis('off');\n",
    "    plt.tight_layout()  "
   ]
  },
  {
   "cell_type": "code",
   "execution_count": 23,
   "metadata": {},
   "outputs": [],
   "source": [
    "data = good_sites.text_sent\n",
    "data.reset_index(drop=True, inplace=True)"
   ]
  },
  {
   "cell_type": "code",
   "execution_count": 25,
   "metadata": {},
   "outputs": [],
   "source": [
    "data = bad_sites.text_sent\n",
    "data.reset_index(drop=True, inplace=True)"
   ]
  },
  {
   "cell_type": "code",
   "execution_count": 26,
   "metadata": {
    "scrolled": false
   },
   "outputs": [
    {
     "name": "stderr",
     "output_type": "stream",
     "text": [
      "\n",
      "\n",
      "====== WebDriver manager ======\n",
      "Current google-chrome version is 90.0.4430\n",
      "Get LATEST driver version for 90.0.4430\n",
      "Driver [C:\\Users\\vvssa\\.wdm\\drivers\\chromedriver\\win32\\90.0.4430.24\\chromedriver.exe] found in cache\n"
     ]
    }
   ],
   "source": [
    "from webdriver_manager.chrome import ChromeDriverManager\n",
    "\n",
    "browser = webdriver.Chrome(ChromeDriverManager().install())\n",
    "\n",
    "\n",
    "\n"
   ]
  },
  {
   "cell_type": "code",
   "execution_count": 32,
   "metadata": {},
   "outputs": [],
   "source": [
    "#create cv object\n",
    "cv = CountVectorizer()"
   ]
  },
  {
   "cell_type": "code",
   "execution_count": 33,
   "metadata": {},
   "outputs": [],
   "source": [
    "#help(CountVectorizer())"
   ]
  },
  {
   "cell_type": "code",
   "execution_count": 34,
   "metadata": {},
   "outputs": [],
   "source": [
    "feature = cv.fit_transform(phish_data.text_sent) #transform all text which we tokenize and stemed"
   ]
  },
  {
   "cell_type": "code",
   "execution_count": 35,
   "metadata": {
    "scrolled": true
   },
   "outputs": [
    {
     "data": {
      "text/plain": [
       "array([[0, 0, 0, ..., 0, 0, 0],\n",
       "       [0, 0, 0, ..., 0, 0, 0],\n",
       "       [0, 0, 0, ..., 0, 0, 0],\n",
       "       [0, 0, 0, ..., 0, 0, 0],\n",
       "       [0, 0, 0, ..., 0, 0, 0]], dtype=int64)"
      ]
     },
     "execution_count": 35,
     "metadata": {},
     "output_type": "execute_result"
    }
   ],
   "source": [
    "feature[:5].toarray() # convert sparse matrix into array to print transformed features"
   ]
  },
  {
   "cell_type": "code",
   "execution_count": 36,
   "metadata": {},
   "outputs": [],
   "source": [
    "trainX, testX, trainY, testY = train_test_split(feature, phish_data.Label)"
   ]
  },
  {
   "cell_type": "code",
   "execution_count": 38,
   "metadata": {},
   "outputs": [
    {
     "data": {
      "text/plain": [
       "LogisticRegression(C=1.0, class_weight=None, dual=False, fit_intercept=True,\n",
       "                   intercept_scaling=1, l1_ratio=None, max_iter=100,\n",
       "                   multi_class='auto', n_jobs=None, penalty='l2',\n",
       "                   random_state=None, solver='lbfgs', tol=0.0001, verbose=0,\n",
       "                   warm_start=False)"
      ]
     },
     "execution_count": 38,
     "metadata": {},
     "output_type": "execute_result"
    }
   ],
   "source": [
    "lr.fit(trainX,trainY)"
   ]
  },
  {
   "cell_type": "code",
   "execution_count": 39,
   "metadata": {},
   "outputs": [
    {
     "data": {
      "text/plain": [
       "0.9639499916264371"
      ]
     },
     "execution_count": 39,
     "metadata": {},
     "output_type": "execute_result"
    }
   ],
   "source": [
    "lr.score(testX,testY)"
   ]
  },
  {
   "cell_type": "markdown",
   "metadata": {},
   "source": [
    ".*** Logistic Regression is giving 96% accuracy, Now we will store scores in dict to see which model perform best**"
   ]
  },
  {
   "cell_type": "code",
   "execution_count": 40,
   "metadata": {},
   "outputs": [],
   "source": [
    "Scores_ml = {}\n",
    "Scores_ml['Logistic Regression'] = np.round(lr.score(testX,testY),2)"
   ]
  },
  {
   "cell_type": "code",
   "execution_count": 41,
   "metadata": {},
   "outputs": [
    {
     "name": "stdout",
     "output_type": "stream",
     "text": [
      "Training Accuracy : 0.9786145448279042\n",
      "Testing Accuracy : 0.9639499916264371\n",
      "\n",
      "CLASSIFICATION REPORT\n",
      "\n",
      "              precision    recall  f1-score   support\n",
      "\n",
      "         Bad       0.91      0.97      0.94     36886\n",
      "        Good       0.99      0.96      0.98    100451\n",
      "\n",
      "    accuracy                           0.96    137337\n",
      "   macro avg       0.95      0.96      0.96    137337\n",
      "weighted avg       0.97      0.96      0.96    137337\n",
      "\n",
      "\n",
      "CONFUSION MATRIX\n"
     ]
    },
    {
     "data": {
      "text/plain": [
       "<matplotlib.axes._subplots.AxesSubplot at 0x273df129f88>"
      ]
     },
     "execution_count": 41,
     "metadata": {},
     "output_type": "execute_result"
    },
    {
     "data": {
      "image/png": "[encoded data removed]",
      "text/plain": [
       "<Figure size 432x288 with 2 Axes>"
      ]
     },
     "metadata": {},
     "output_type": "display_data"
    }
   ],
   "source": [
    "print('Training Accuracy :',lr.score(trainX,trainY))\n",
    "print('Testing Accuracy :',lr.score(testX,testY))\n",
    "con_mat = pd.DataFrame(confusion_matrix(lr.predict(testX), testY),\n",
    "            columns = ['Predicted:Bad', 'Predicted:Good'],\n",
    "            index = ['Actual:Bad', 'Actual:Good'])\n",
    "\n",
    "\n",
    "print('\\nCLASSIFICATION REPORT\\n')\n",
    "print(classification_report(lr.predict(testX), testY,\n",
    "                            target_names =['Bad','Good']))\n",
    "\n",
    "print('\\nCONFUSION MATRIX')\n",
    "plt.figure(figsize= (6,4))\n",
    "sns.heatmap(con_mat, annot = True,fmt='d',cmap=\"YlGnBu\")"
   ]
  },
  {
   "cell_type": "markdown",
   "metadata": {},
   "source": [
    "### MultinomialNB\n",
    "* Applying Multinomial Naive Bayes to NLP Problems. Naive Bayes Classifier Algorithm is a family of probabilistic algorithms based on applying Bayes' theorem with the “naive” assumption of conditional independence between every pair of a feature."
   ]
  },
  {
   "cell_type": "code",
   "execution_count": 42,
   "metadata": {},
   "outputs": [],
   "source": [
    "# create mnb object\n",
    "mnb = MultinomialNB()"
   ]
  },
  {
   "cell_type": "code",
   "execution_count": 43,
   "metadata": {},
   "outputs": [
    {
     "data": {
      "text/plain": [
       "MultinomialNB(alpha=1.0, class_prior=None, fit_prior=True)"
      ]
     },
     "execution_count": 43,
     "metadata": {},
     "output_type": "execute_result"
    }
   ],
   "source": [
    "mnb.fit(trainX,trainY)"
   ]
  },
  {
   "cell_type": "code",
   "execution_count": 44,
   "metadata": {},
   "outputs": [
    {
     "data": {
      "text/plain": [
       "0.957396768532879"
      ]
     },
     "execution_count": 44,
     "metadata": {},
     "output_type": "execute_result"
    }
   ],
   "source": [
    "mnb.score(testX,testY)"
   ]
  },
  {
   "cell_type": "markdown",
   "metadata": {},
   "source": [
    "*** MultinomialNB gives us 95% accuracy**  "
   ]
  },
  {
   "cell_type": "code",
   "execution_count": 45,
   "metadata": {},
   "outputs": [],
   "source": [
    "Scores_ml['MultinomialNB'] = np.round(mnb.score(testX,testY),2)"
   ]
  },
  {
   "cell_type": "code",
   "execution_count": 46,
   "metadata": {},
   "outputs": [
    {
     "name": "stdout",
     "output_type": "stream",
     "text": [
      "Training Accuracy : 0.9740175578688816\n",
      "Testing Accuracy : 0.957396768532879\n",
      "\n",
      "CLASSIFICATION REPORT\n",
      "\n",
      "              precision    recall  f1-score   support\n",
      "\n",
      "         Bad       0.91      0.94      0.92     38410\n",
      "        Good       0.97      0.97      0.97     98927\n",
      "\n",
      "    accuracy                           0.96    137337\n",
      "   macro avg       0.94      0.95      0.95    137337\n",
      "weighted avg       0.96      0.96      0.96    137337\n",
      "\n",
      "\n",
      "CONFUSION MATRIX\n"
     ]
    },
    {
     "data": {
      "text/plain": [
       "<matplotlib.axes._subplots.AxesSubplot at 0x273d2be28c8>"
      ]
     },
     "execution_count": 46,
     "metadata": {},
     "output_type": "execute_result"
    },
    {
     "data": {
      "image/png": "[encoded data removed]",
      "text/plain": [
       "<Figure size 432x288 with 2 Axes>"
      ]
     },
     "metadata": {},
     "output_type": "display_data"
    }
   ],
   "source": [
    "print('Training Accuracy :',mnb.score(trainX,trainY))\n",
    "print('Testing Accuracy :',mnb.score(testX,testY))\n",
    "con_mat = pd.DataFrame(confusion_matrix(mnb.predict(testX), testY),\n",
    "            columns = ['Predicted:Bad', 'Predicted:Good'],\n",
    "            index = ['Actual:Bad', 'Actual:Good'])\n",
    "\n",
    "\n",
    "print('\\nCLASSIFICATION REPORT\\n')\n",
    "print(classification_report(mnb.predict(testX), testY,\n",
    "                            target_names =['Bad','Good']))\n",
    "\n",
    "print('\\nCONFUSION MATRIX')\n",
    "plt.figure(figsize= (6,4))\n",
    "sns.heatmap(con_mat, annot = True,fmt='d',cmap=\"YlGnBu\")"
   ]
  },
  {
   "cell_type": "code",
   "execution_count": 47,
   "metadata": {},
   "outputs": [
    {
     "data": {
      "text/plain": [
       "<matplotlib.axes._subplots.AxesSubplot at 0x273d29e0888>"
      ]
     },
     "execution_count": 47,
     "metadata": {},
     "output_type": "execute_result"
    },
    {
     "data": {
      "image/png": "[encoded data removed]",
      "text/plain": [
       "<Figure size 432x288 with 1 Axes>"
      ]
     },
     "metadata": {},
     "output_type": "display_data"
    }
   ],
   "source": [
    "acc = pd.DataFrame.from_dict(Scores_ml,orient = 'index',columns=['Accuracy'])\n",
    "sns.set_style('darkgrid')\n",
    "sns.barplot(acc.index,acc.Accuracy)"
   ]
  },
  {
   "cell_type": "markdown",
   "metadata": {},
   "source": [
    "*** So, Logistic Regression is the best fit model, Now we make sklearn pipeline using Logistic Regression**"
   ]
  },
  {
   "cell_type": "code",
   "execution_count": 48,
   "metadata": {},
   "outputs": [],
   "source": [
    "pipeline_ls = make_pipeline(CountVectorizer(tokenizer = RegexpTokenizer(r'[A-Za-z]+').tokenize,stop_words='english'), LogisticRegression())\n",
    "##(r'\\b(?:http|ftp)s?://\\S*\\w|\\w+|[^\\w\\s]+') ([a-zA-Z]+)([0-9]+) -- these tolenizers giving me low accuray "
   ]
  },
  {
   "cell_type": "code",
   "execution_count": 49,
   "metadata": {},
   "outputs": [],
   "source": [
    "trainX, testX, trainY, testY = train_test_split(phish_data.URL, phish_data.Label)"
   ]
  },
  {
   "cell_type": "code",
   "execution_count": 50,
   "metadata": {
    "scrolled": true
   },
   "outputs": [
    {
     "data": {
      "text/plain": [
       "Pipeline(memory=None,\n",
       "         steps=[('countvectorizer',\n",
       "                 CountVectorizer(analyzer='word', binary=False,\n",
       "                                 decode_error='strict',\n",
       "                                 dtype=<class 'numpy.int64'>, encoding='utf-8',\n",
       "                                 input='content', lowercase=True, max_df=1.0,\n",
       "                                 max_features=None, min_df=1,\n",
       "                                 ngram_range=(1, 1), preprocessor=None,\n",
       "                                 stop_words='english', strip_accents=None,\n",
       "                                 token_pattern='(?u)\\\\b\\\\w\\\\w+\\\\b',\n",
       "                                 tokenizer=<bo...mpty=True, flags=<RegexFlag.UNICODE|DOTALL|MULTILINE: 56>)>,\n",
       "                                 vocabulary=None)),\n",
       "                ('logisticregression',\n",
       "                 LogisticRegression(C=1.0, class_weight=None, dual=False,\n",
       "                                    fit_intercept=True, intercept_scaling=1,\n",
       "                                    l1_ratio=None, max_iter=100,\n",
       "                                    multi_class='auto', n_jobs=None,\n",
       "                                    penalty='l2', random_state=None,\n",
       "                                    solver='lbfgs', tol=0.0001, verbose=0,\n",
       "                                    warm_start=False))],\n",
       "         verbose=False)"
      ]
     },
     "execution_count": 50,
     "metadata": {},
     "output_type": "execute_result"
    }
   ],
   "source": [
    "pipeline_ls.fit(trainX,trainY)"
   ]
  },
  {
   "cell_type": "code",
   "execution_count": 51,
   "metadata": {},
   "outputs": [
    {
     "data": {
      "text/plain": [
       "0.9657557686566621"
      ]
     },
     "execution_count": 51,
     "metadata": {},
     "output_type": "execute_result"
    }
   ],
   "source": [
    "pipeline_ls.score(testX,testY) "
   ]
  },
  {
   "cell_type": "code",
   "execution_count": 52,
   "metadata": {},
   "outputs": [
    {
     "name": "stdout",
     "output_type": "stream",
     "text": [
      "Training Accuracy : 0.9801509190333221\n",
      "Testing Accuracy : 0.9657557686566621\n",
      "\n",
      "CLASSIFICATION REPORT\n",
      "\n",
      "              precision    recall  f1-score   support\n",
      "\n",
      "         Bad       0.91      0.97      0.94     37101\n",
      "        Good       0.99      0.97      0.98    100236\n",
      "\n",
      "    accuracy                           0.97    137337\n",
      "   macro avg       0.95      0.97      0.96    137337\n",
      "weighted avg       0.97      0.97      0.97    137337\n",
      "\n",
      "\n",
      "CONFUSION MATRIX\n"
     ]
    },
    {
     "data": {
      "text/plain": [
       "<matplotlib.axes._subplots.AxesSubplot at 0x273d37c86c8>"
      ]
     },
     "execution_count": 52,
     "metadata": {},
     "output_type": "execute_result"
    },
    {
     "data": {
      "image/png": "[encoded data removed]",
      "text/plain": [
       "<Figure size 432x288 with 2 Axes>"
      ]
     },
     "metadata": {},
     "output_type": "display_data"
    }
   ],
   "source": [
    "print('Training Accuracy :',pipeline_ls.score(trainX,trainY))\n",
    "print('Testing Accuracy :',pipeline_ls.score(testX,testY))\n",
    "con_mat = pd.DataFrame(confusion_matrix(pipeline_ls.predict(testX), testY),\n",
    "            columns = ['Predicted:Bad', 'Predicted:Good'],\n",
    "            index = ['Actual:Bad', 'Actual:Good'])\n",
    "\n",
    "\n",
    "print('\\nCLASSIFICATION REPORT\\n')\n",
    "print(classification_report(pipeline_ls.predict(testX), testY,\n",
    "                            target_names =['Bad','Good']))\n",
    "\n",
    "print('\\nCONFUSION MATRIX')\n",
    "plt.figure(figsize= (6,4))\n",
    "sns.heatmap(con_mat, annot = True,fmt='d',cmap=\"YlGnBu\")"
   ]
  },
  {
   "cell_type": "code",
   "execution_count": 53,
   "metadata": {},
   "outputs": [],
   "source": [
    "pickle.dump(pipeline_ls,open('phishing.pkl','wb'))"
   ]
  },
  {
   "cell_type": "code",
   "execution_count": 54,
   "metadata": {},
   "outputs": [
    {
     "name": "stdout",
     "output_type": "stream",
     "text": [
      "0.9657557686566621\n"
     ]
    }
   ],
   "source": [
    "loaded_model = pickle.load(open('phishing.pkl', 'rb'))\n",
    "result = loaded_model.score(testX,testY)\n",
    "print(result)"
   ]
  },
  {
   "cell_type": "markdown",
   "metadata": {},
   "source": [
    "***That’s it. See, it's that simple yet so effective. We get an accuracy of 98%. That’s a very high value for a machine to be able to detect a malicious URL with. Want to test some links to see if the model gives good predictions? Sure. Let's do it**"
   ]
  },
  {
   "cell_type": "code",
   "execution_count": 55,
   "metadata": {},
   "outputs": [
    {
     "ename": "SyntaxError",
     "evalue": "invalid syntax (<ipython-input-55-f5d36286a457>, line 1)",
     "output_type": "error",
     "traceback": [
      "\u001b[1;36m  File \u001b[1;32m\"<ipython-input-55-f5d36286a457>\"\u001b[1;36m, line \u001b[1;32m1\u001b[0m\n\u001b[1;33m    * Bad links => this are phishing sites\u001b[0m\n\u001b[1;37m              ^\u001b[0m\n\u001b[1;31mSyntaxError\u001b[0m\u001b[1;31m:\u001b[0m invalid syntax\n"
     ]
    }
   ],
   "source": []
  },
  {
   "cell_type": "code",
   "execution_count": 56,
   "metadata": {
    "scrolled": true
   },
   "outputs": [
    {
     "name": "stdout",
     "output_type": "stream",
     "text": [
      "['bad' 'bad' 'bad' 'bad']\n",
      "******************************\n",
      "['good' 'good' 'good' 'good']\n"
     ]
    }
   ],
   "source": [
    "predict_bad = ['yeniik.com.tr/wp-admin/js/login.alibaba.com/login.jsp.php','fazan-pacir.rs/temp/libraries/ipad','tubemoviez.exe','svision-online.de/mgfi/administrator/components/com_babackup/classes/fx29id1.txt']\n",
    "predict_good = ['youtube.com/','youtube.com/watch?v=qI0TQJI3vdU','retailhellunderground.com/','restorevisioncenters.com/html/technology.html']\n",
    "loaded_model = pickle.load(open('phishing.pkl', 'rb'))\n",
    "#predict_bad = vectorizers.transform(predict_bad)\n",
    "# predict_good = vectorizer.transform(predict_good)\n",
    "result = loaded_model.predict(predict_bad)\n",
    "result2 = loaded_model.predict(predict_good)\n",
    "print(result)\n",
    "print(\"*\"*30)\n",
    "print(result2)"
   ]
  },
  {
   "cell_type": "markdown",
   "metadata": {},
   "source": [
    "### Protections\n",
    "#### How to Protect Your Computer \n",
    "Below are some key steps to protecting your computer from intrusion:\n",
    "\n",
    "1. **Keep Your Firewall Turned On:** A firewall helps protect your computer from hackers who might try to gain access to crash it, delete information, or even steal passwords or other sensitive information. Software firewalls are widely recommended for single computers. The software is prepackaged on some operating systems or can be purchased for individual computers. For multiple networked computers, hardware routers typically provide firewall protection.\n",
    "\n",
    "2. **Install or Update Your Antivirus Software:** Antivirus software is designed to prevent malicious software programs from embedding on your computer. If it detects malicious code, like a virus or a worm, it works to disarm or remove it. Viruses can infect computers without users’ knowledge. Most types of antivirus software can be set up to update automatically.\n",
    "\n",
    "3. **Install or Update Your Antispyware Technology:** Spyware is just what it sounds like—software that is surreptitiously installed on your computer to let others peer into your activities on the computer. Some spyware collects information about you without your consent or produces unwanted pop-up ads on your web browser. Some operating systems offer free spyware protection, and inexpensive software is readily available for download on the Internet or at your local computer store. Be wary of ads on the Internet offering downloadable antispyware—in some cases these products may be fake and may actually contain spyware or other malicious code. It’s like buying groceries—shop where you trust.\n",
    "\n",
    "4. **Keep Your Operating System Up to Date:** Computer operating systems are periodically updated to stay in tune with technology requirements and to fix security holes. Be sure to install the updates to ensure your computer has the latest protection.\n",
    "\n",
    "5. **Be Careful What You Download:** Carelessly downloading e-mail attachments can circumvent even the most vigilant anti-virus software. Never open an e-mail attachment from someone you don’t know, and be wary of forwarded attachments from people you do know. They may have unwittingly advanced malicious code.\n",
    "\n",
    "6. **Turn Off Your Computer:** With the growth of high-speed Internet connections, many opt to leave their computers on and ready for action. The downside is that being “always on” renders computers more susceptible. Beyond firewall protection, which is designed to fend off unwanted attacks, turning the computer off effectively severs an attacker’s connection—be it spyware or a botnet that employs your computer’s resources to reach out to other unwitting users."
   ]
  },
  {
   "cell_type": "markdown",
   "metadata": {},
   "source": [
    "https://research.aalto.fi/en/datasets/phishstorm-phishing-legitimate-url-dataset"
   ]
  },
  {
   "cell_type": "code",
   "execution_count": null,
   "metadata": {},
   "outputs": [],
   "source": []
  }
 ],
 "metadata": {
  "kernelspec": {
   "display_name": "Python 3",
   "language": "python",
   "name": "python3"
  },
  "language_info": {
   "codemirror_mode": {
    "name": "ipython",
    "version": 3
   },
   "file_extension": ".py",
   "mimetype": "text/x-python",
   "name": "python",
   "nbconvert_exporter": "python",
   "pygments_lexer": "ipython3",
   "version": "3.7.4"
  },
  "varInspector": {
   "cols": {
    "lenName": 16,
    "lenType": 16,
    "lenVar": 40
   },
   "kernels_config": {
    "python": {
     "delete_cmd_postfix": "",
     "delete_cmd_prefix": "del ",
     "library": "var_list.py",
     "varRefreshCmd": "print(var_dic_list())"
    },
    "r": {
     "delete_cmd_postfix": ") ",
     "delete_cmd_prefix": "rm(",
     "library": "var_list.r",
     "varRefreshCmd": "cat(var_dic_list()) "
    }
   },
   "types_to_exclude": [
    "module",
    "function",
    "builtin_function_or_method",
    "instance",
    "_Feature"
   ],
   "window_display": false
  }
 },
 "nbformat": 4,
 "nbformat_minor": 4
}
